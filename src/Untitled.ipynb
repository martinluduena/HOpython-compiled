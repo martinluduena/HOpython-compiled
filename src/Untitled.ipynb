{
 "cells": [
  {
   "cell_type": "code",
   "execution_count": 1,
   "metadata": {},
   "outputs": [],
   "source": [
    "import ctypes as C\n",
    "math = C.CDLL('./libmymath.so')"
   ]
  },
  {
   "cell_type": "code",
   "execution_count": 2,
   "metadata": {},
   "outputs": [
    {
     "data": {
      "text/plain": [
       "7.0"
      ]
     },
     "execution_count": 2,
     "metadata": {},
     "output_type": "execute_result"
    }
   ],
   "source": [
    "math.add_float.restype = C.c_float\n",
    "math.add_float.argtypes = [C.c_float,C.c_float]\n",
    "math.add_float(3,4)"
   ]
  },
  {
   "cell_type": "code",
   "execution_count": 3,
   "metadata": {},
   "outputs": [
    {
     "data": {
      "text/plain": [
       "0"
      ]
     },
     "execution_count": 3,
     "metadata": {},
     "output_type": "execute_result"
    }
   ],
   "source": [
    "tres = C.c_int(3)\n",
    "cuatro = C.c_int(4)\n",
    "res = C.c_int()\n",
    "math.add_int_ref(C.byref(tres),C.byref(cuatro),C.byref(res))"
   ]
  },
  {
   "cell_type": "code",
   "execution_count": 4,
   "metadata": {},
   "outputs": [
    {
     "data": {
      "text/plain": [
       "7"
      ]
     },
     "execution_count": 4,
     "metadata": {},
     "output_type": "execute_result"
    }
   ],
   "source": [
    "res.value"
   ]
  },
  {
   "cell_type": "code",
   "execution_count": 5,
   "metadata": {},
   "outputs": [
    {
     "data": {
      "text/plain": [
       "7"
      ]
     },
     "execution_count": 5,
     "metadata": {},
     "output_type": "execute_result"
    }
   ],
   "source": [
    "tres.value+cuatro.value"
   ]
  },
  {
   "cell_type": "markdown",
   "metadata": {},
   "source": [
    "¿Cómo alocamos un array en Python?"
   ]
  },
  {
   "cell_type": "code",
   "execution_count": 6,
   "metadata": {},
   "outputs": [
    {
     "data": {
      "text/plain": [
       "(0, 5, -2)"
      ]
     },
     "execution_count": 6,
     "metadata": {},
     "output_type": "execute_result"
    }
   ],
   "source": [
    "in1 = (C.c_int * 3) (1,2,-5)\n",
    "in2 = (C.c_int * 3) (-1,3,3)\n",
    "out = (C.c_int * 3) (0,0,0)\n",
    "math.add_int_array(C.byref(in1),C.byref(in2),C.byref(out),C.c_int(3))\n",
    "out[0],out[1],out[2]"
   ]
  },
  {
   "cell_type": "markdown",
   "metadata": {},
   "source": [
    "Arreglos de Numpy "
   ]
  },
  {
   "cell_type": "code",
   "execution_count": 7,
   "metadata": {},
   "outputs": [],
   "source": [
    "import numpy as np"
   ]
  },
  {
   "cell_type": "code",
   "execution_count": 18,
   "metadata": {},
   "outputs": [
    {
     "data": {
      "text/plain": [
       "array([ 0,  5, -2], dtype=int32)"
      ]
     },
     "execution_count": 18,
     "metadata": {},
     "output_type": "execute_result"
    }
   ],
   "source": [
    "intp = C.POINTER(C.c_int)\n",
    "inn1 = np.array([1, 2, -5], dtype=C.c_int)\n",
    "inn2 = np.array([-1, 3, 3], dtype=C.c_int)\n",
    "outt  = np.zeros(3, dtype=C.c_int)\n",
    "\n",
    "\n",
    "math.add_int_array(inn1.ctypes.data_as(intp),inn2.ctypes.data_as(intp),outt.ctypes.data_as(intp),C.c_int(3))\n",
    "outt\n"
   ]
  },
  {
   "cell_type": "code",
   "execution_count": 16,
   "metadata": {
    "scrolled": true
   },
   "outputs": [
    {
     "data": {
      "text/plain": [
       "2.0"
      ]
     },
     "execution_count": 16,
     "metadata": {},
     "output_type": "execute_result"
    }
   ],
   "source": [
    "flp = C.POINTER(C.c_float)\n",
    "innn1 = np.array([1, 1, -5], dtype= C.c_float)\n",
    "innn2 = np.array([-1, -2, -1], dtype=C.c_float)\n",
    "\n",
    "math.dot_product.restype = C.c_float\n",
    "\n",
    "resss = math.dot_product(innn1.ctypes.data_as(flp),innn2.ctypes.data_as(flp),C.c_int(3))\n",
    "resss"
   ]
  },
  {
   "cell_type": "code",
   "execution_count": null,
   "metadata": {},
   "outputs": [],
   "source": []
  }
 ],
 "metadata": {
  "kernelspec": {
   "display_name": "Python 3",
   "language": "python",
   "name": "python3"
  },
  "language_info": {
   "codemirror_mode": {
    "name": "ipython",
    "version": 3
   },
   "file_extension": ".py",
   "mimetype": "text/x-python",
   "name": "python",
   "nbconvert_exporter": "python",
   "pygments_lexer": "ipython3",
   "version": "3.6.5"
  }
 },
 "nbformat": 4,
 "nbformat_minor": 2
}
